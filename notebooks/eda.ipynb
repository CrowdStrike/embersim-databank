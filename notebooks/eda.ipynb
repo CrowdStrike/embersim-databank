{
 "cells": [
  {
   "cell_type": "markdown",
   "id": "e78cccca-c7fd-48a6-ba9e-6ff1c479cc75",
   "metadata": {},
   "source": [
    "# Exploratory Data Analysis"
   ]
  },
  {
   "cell_type": "code",
   "execution_count": null,
   "id": "9347ca7f-bc40-414f-8148-880d4c61a2cc",
   "metadata": {
    "tags": []
   },
   "outputs": [],
   "source": [
    "import json\n",
    "import math\n",
    "import pickle\n",
    "import re\n",
    "import sys\n",
    "from collections import Counter, defaultdict\n",
    "from functools import reduce\n",
    "from pathlib import Path\n",
    "\n",
    "import matplotlib.gridspec as gridspec\n",
    "import matplotlib.pyplot as plt\n",
    "import numpy as np\n",
    "import pandas as pd\n",
    "import seaborn as sns\n",
    "import toolz\n",
    "from rich import print\n",
    "from tqdm.auto import tqdm\n",
    "\n",
    "sys.path.insert(0, \"../src/\")\n",
    "\n",
    "tqdm.pandas()\n",
    "# plt.style.use(\"ggplot\")\n",
    "sns.set()\n",
    "\n",
    "from dataset import (\n",
    "    TagAssociations,\n",
    "    filter_by_kinds,\n",
    "    filter_by_thr,\n",
    "    get_tag_ranking,\n",
    "    normalise_wrt,\n",
    ")\n",
    "from parse_avclass import parse_avclass_results"
   ]
  },
  {
   "cell_type": "code",
   "execution_count": null,
   "id": "6c6f6e6f-cc43-4993-b048-4440aa7e56f7",
   "metadata": {
    "tags": []
   },
   "outputs": [],
   "source": [
    "%matplotlib inline\n",
    "%config InlineBackend.figure_format = 'retina'\n",
    "%load_ext autoreload\n",
    "%autoreload 2"
   ]
  },
  {
   "cell_type": "markdown",
   "id": "22b00c60-17e7-433a-8269-496c363e3b23",
   "metadata": {
    "tags": []
   },
   "source": [
    "## Vendors\n",
    "\n",
    "Parse VT results (input is a `.jsonl` file, as required by AVClass)/"
   ]
  },
  {
   "cell_type": "code",
   "execution_count": null,
   "id": "3b55d0e8-6d1c-4ad5-a526-5ece68ca8d3b",
   "metadata": {
    "tags": []
   },
   "outputs": [],
   "source": [
    "vendors = defaultdict(list)\n",
    "\n",
    "with open(\"../data/vt_results.jsonl\", \"rt\") as fp:\n",
    "    for line in tqdm(fp):\n",
    "        x = json.loads(line)\n",
    "        for v in x[\"attributes\"][\"last_analysis_results\"]:\n",
    "            vendors[v].append(x[\"attributes\"][\"sha256\"])"
   ]
  },
  {
   "cell_type": "code",
   "execution_count": null,
   "id": "a0183b08-d5d3-4114-ae35-317556d130d3",
   "metadata": {
    "tags": []
   },
   "outputs": [],
   "source": [
    "len(vendors)"
   ]
  },
  {
   "cell_type": "code",
   "execution_count": null,
   "id": "d40a0c1f-789f-4891-bb21-0ac445eaad71",
   "metadata": {
    "tags": []
   },
   "outputs": [],
   "source": [
    "Counter(toolz.dicttoolz.valmap(len, vendors)).most_common()"
   ]
  },
  {
   "cell_type": "markdown",
   "id": "ff71ca29-841d-4c78-a7ce-3174d090b726",
   "metadata": {
    "tags": []
   },
   "source": [
    "## Load original EMBER metadata"
   ]
  },
  {
   "cell_type": "code",
   "execution_count": null,
   "id": "651145a6-4230-4898-aa18-f3ed69042e32",
   "metadata": {
    "tags": []
   },
   "outputs": [],
   "source": [
    "ember = pd.read_csv(\"../data/raw/ember_original_metadata.csv\", index_col=0)\n",
    "ember.info()"
   ]
  },
  {
   "cell_type": "markdown",
   "id": "ef14735a-bc6f-4653-b675-a5aad5b261d5",
   "metadata": {},
   "source": [
    "Check how many hashes were unprocessed (no VT results)"
   ]
  },
  {
   "cell_type": "code",
   "execution_count": null,
   "id": "e6b6637c-e972-46c5-857a-b4911fbe5f5d",
   "metadata": {
    "tags": []
   },
   "outputs": [],
   "source": [
    "ext_vt = set()\n",
    "\n",
    "with open(VT_JSONL) as fp:\n",
    "    for line in tqdm(fp):\n",
    "        j = json.loads(line)\n",
    "        ext_vt.add(j[\"attributes\"][\"sha256\"])\n",
    "\n",
    "proc = ember.query(\"sha256.isin(@ext_vt)\")"
   ]
  },
  {
   "cell_type": "code",
   "execution_count": null,
   "id": "8256b0fa-d7f4-4899-af70-d1171e978556",
   "metadata": {
    "tags": []
   },
   "outputs": [],
   "source": [
    "pd.crosstab(proc[\"label\"], [proc[\"subset\"]], margins=True)"
   ]
  },
  {
   "cell_type": "markdown",
   "id": "5ef67108-5c6f-4bc9-83cf-c8590da9f65a",
   "metadata": {},
   "source": [
    "### Label by date appeared"
   ]
  },
  {
   "cell_type": "code",
   "execution_count": null,
   "id": "3a5c477a-bc1e-4d93-ac1a-79bdf30f81a3",
   "metadata": {
    "tags": []
   },
   "outputs": [],
   "source": [
    "colors = [\"gray\", \"skyblue\", \"salmon\"]"
   ]
  },
  {
   "cell_type": "code",
   "execution_count": null,
   "id": "48615584-a3b3-4420-ad8e-fa20e73fb687",
   "metadata": {
    "tags": []
   },
   "outputs": [],
   "source": [
    "thr = 2018\n",
    "ember[\"date\"] = ember[\"appeared\"].apply(\n",
    "    lambda x: x if int(x.split(\"-\")[0]) >= thr else f\"<{thr}\"\n",
    ")\n",
    "x = (\n",
    "    ember.groupby(\"date\")[\"label\"]\n",
    "    .apply(lambda xs: xs.value_counts().to_dict())\n",
    "    .fillna(0)\n",
    "    .to_frame(name=\"labels\")\n",
    "    .reset_index()\n",
    "    .set_index(\"date\")\n",
    "    .pivot(columns=[\"level_1\"], values=[\"labels\"])\n",
    ")\n",
    "x = x.iloc[[-1, *range(0, len(x.index) - 1)]]\n",
    "x.columns = [\"unlabelled\", \"benign\", \"malicious\"]\n",
    "fig, ax = plt.subplots(figsize=(8, 4))\n",
    "x.plot(kind=\"bar\", stacked=True, color=colors, ax=ax)\n",
    "ix = np.linspace(0, 120_000, num=13)\n",
    "ax.set_yticks(ix, labels=[f\"{int(i/1000)}k\" for i in ix])\n",
    "ax.set_xlabel(\"Date appeared\")\n",
    "ax.set_ylabel(\"Number of samples\")\n",
    "pass"
   ]
  },
  {
   "cell_type": "code",
   "execution_count": null,
   "id": "e6e6ed93-e917-4542-832d-3ecd398a8810",
   "metadata": {
    "tags": []
   },
   "outputs": [],
   "source": [
    "x = (\n",
    "    ember.groupby(\"subset\")[\"label\"]\n",
    "    .apply(lambda xs: xs.value_counts().to_dict())\n",
    "    .fillna(0)\n",
    "    .to_frame(name=\"labels\")\n",
    "    .reset_index()\n",
    "    .set_index(\"subset\")\n",
    "    .pivot(columns=[\"level_1\"], values=[\"labels\"])\n",
    ")\n",
    "x.columns = [\"unlabelled\", \"benign\", \"malicious\"]\n",
    "fig, ax = plt.subplots(figsize=(3, 4))\n",
    "x.plot(kind=\"bar\", stacked=True, color=colors, ax=ax)\n",
    "ix = np.linspace(0, 800_000, num=9)\n",
    "ax.set_yticks(ix, labels=[f\"{int(i/1000)}k\" for i in ix])\n",
    "ax.set_xlabel(\"Subset\")\n",
    "ax.set_ylabel(\"Number of samples\")\n",
    "pass"
   ]
  },
  {
   "cell_type": "markdown",
   "id": "f0095158-8fd9-4885-bd81-533e6289201c",
   "metadata": {},
   "source": [
    "## Interpreting AVClass results"
   ]
  },
  {
   "cell_type": "code",
   "execution_count": null,
   "id": "d9485eeb-0257-4df8-ad8f-7df83df42a06",
   "metadata": {
    "tags": []
   },
   "outputs": [],
   "source": [
    "avclass_results = parse_avclass_results(\"../data/avclass_results.txt\")\n",
    "\n",
    "renamer = {\n",
    "    \"avclass\": \"avclass_prev\",  # previous avclass results (EMBER, 2018)\n",
    "    \"tags\": \"avclass_curr\",  # current avclass results\n",
    "}\n",
    "\n",
    "# augmented dataframe: prev ember | curr avclass results\n",
    "aug_df = ember.merge(avclass_results, how=\"left\", on=\"sha256\").rename(renamer, axis=1)\n",
    "\n",
    "# both: prev ember & curr avclass\n",
    "both_df = ember.merge(avclass_results, how=\"inner\", on=\"sha256\").rename(renamer, axis=1)"
   ]
  },
  {
   "cell_type": "markdown",
   "id": "845feb3b-d631-4cbc-8ee3-d6f9d6ab9eb6",
   "metadata": {},
   "source": [
    "### Tag presence vs label"
   ]
  },
  {
   "cell_type": "code",
   "execution_count": null,
   "id": "4964e669-3e7a-4133-bfe6-ab5c2a0a145c",
   "metadata": {
    "tags": []
   },
   "outputs": [],
   "source": [
    "mask_curr = aug_df[\"avclass_curr\"].apply(\n",
    "    lambda d: pd.notna(d)\n",
    "    and (\"FAM:\" in str(d) or (\"CLASS:\" in str(d) and \"CLASS:grayware\" not in str(d)))\n",
    ")\n",
    "mask_prev = aug_df[\"avclass_prev\"].notna()\n",
    "pd.crosstab(aug_df[\"label\"], [mask_prev, mask_curr], margins=True)"
   ]
  },
  {
   "cell_type": "markdown",
   "id": "a4f3d90d-4ccc-446e-806f-781183d66915",
   "metadata": {},
   "source": [
    "### Load associations (tag co-occurrence)\n",
    "i.e. tag pairs co-occurring, taken from the `.alias` file generated by AVClass\n",
    "\n",
    "For example, the following line:\n",
    "```\n",
    "t1             t2          |t1|  |t2|      |t1^t2|  |t1^t2|/|t1|    |t1^t2|/|t2|\n",
    "FAM:lockergoga FAM:fareit   3    22170     1        0.33            0.00\n",
    "```\n",
    "means that:\n",
    "- `FAM:lockergoga` appears in 3 samples (total)\n",
    "- `FAM:fareit` appears in 22,170 samples (total)\n",
    "- they appear together in 1 sample\n",
    "\n",
    "We can use `CLASS` tag to obtain a higher-level organization of samples.\n",
    "**NOTE:** the CLASSes are not disjoint, i.e. a sample can be part of multiple CLASSes.\n",
    "\n",
    "This is useful to enrich tag info for a sample with info from different samples."
   ]
  },
  {
   "cell_type": "code",
   "execution_count": null,
   "id": "041b8959-9fcd-46f0-b8bf-e247fda16f48",
   "metadata": {
    "tags": []
   },
   "outputs": [],
   "source": [
    "def most_common(xs: dict) -> list[tuple]:\n",
    "    return sorted(xs.items(), key=lambda kv: kv[1], reverse=True)"
   ]
  },
  {
   "cell_type": "code",
   "execution_count": null,
   "id": "e85d9f3b-ce66-4ce6-a13b-4f5ff3bccfa9",
   "metadata": {
    "tags": []
   },
   "outputs": [],
   "source": [
    "assoc = TagAssociations(file=\"../data/avclass_tag_co_occurrence.alias\")"
   ]
  },
  {
   "cell_type": "code",
   "execution_count": null,
   "id": "a899ec1b-4f48-4492-8df7-e98cc58b5e7b",
   "metadata": {
    "tags": []
   },
   "outputs": [],
   "source": [
    "len(filter_by_kinds(assoc.pair_norm_freq, kinds=[\"CLASS\"]).keys())"
   ]
  },
  {
   "cell_type": "code",
   "execution_count": null,
   "id": "60248639-2cab-4959-8a9e-e31a4821bff4",
   "metadata": {
    "tags": []
   },
   "outputs": [],
   "source": [
    "# what other families co-occur with `FAM:lockergoga`?\n",
    "print(filter_by_kinds(assoc.pair_counter[\"FAM:lockergoga\"], kinds=[\"FAM\"]))"
   ]
  },
  {
   "cell_type": "code",
   "execution_count": null,
   "id": "52387a23-8d1a-4e46-9507-31aac9bf2b8d",
   "metadata": {
    "tags": []
   },
   "outputs": [],
   "source": [
    "# what other classes co-occur with `FAM:lockergoga`?\n",
    "print(\n",
    "    most_common(filter_by_kinds(assoc.pair_counter[\"FAM:lockergoga\"], kinds=[\"CLASS\"]))\n",
    ")"
   ]
  },
  {
   "cell_type": "code",
   "execution_count": null,
   "id": "b4947519-19a3-45a9-a87f-86e35362d765",
   "metadata": {
    "tags": []
   },
   "outputs": [],
   "source": [
    "# what are the families and classes which co-occur with `FAM:cosmu` ≥ 80% of the times, w.r.t. the freq. of `FAM:cosmu`?\n",
    "filter_by_thr(\n",
    "    filter_by_kinds(assoc.pair_norm_freq[\"FAM:cosmu\"], kinds=[\"FAM\", \"CLASS\"]), thr=0.8\n",
    ")"
   ]
  },
  {
   "cell_type": "markdown",
   "id": "0010f8c4-1856-4bed-bb09-9bbddaaa7697",
   "metadata": {},
   "source": [
    "### Top-N most frequent tags by kind"
   ]
  },
  {
   "cell_type": "code",
   "execution_count": null,
   "id": "53458b6b-915d-4382-b85b-2fd611d57dff",
   "metadata": {
    "tags": []
   },
   "outputs": [],
   "source": [
    "def plot_kind(kind, N, ax):\n",
    "    tmp = Counter()\n",
    "    for t, c in most_common(filter_by_kinds(assoc.tag_counter, kinds=[kind])):\n",
    "        tmp[t.split(\":\")[1]] += c\n",
    "    tmp = pd.DataFrame(tmp.most_common()[:N], columns=[\"name\", \"count\"])\n",
    "\n",
    "    tmp = tmp.sort_values(by=\"count\")\n",
    "    tmp.plot(kind=\"barh\", x=\"name\", y=\"count\", ax=ax, color=\"salmon\")\n",
    "    ax.set_yticklabels(tmp[\"name\"], fontfamily=\"monospace\", fontsize=8)\n",
    "    ax.set_xscale(\"log\")\n",
    "    ax.grid(True, axis=\"both\", which=\"both\")\n",
    "    ax.set_xlabel(\"Frequency\")\n",
    "    ax.set_ylabel(\"\")\n",
    "    ax.get_legend().remove()\n",
    "    ax.set_title(f\"{kind} tags\")\n",
    "\n",
    "\n",
    "N = 20\n",
    "plt.figure(figsize=(16, 8))\n",
    "gs = gridspec.GridSpec(2, 4)\n",
    "gs.update(hspace=0.3, wspace=1)\n",
    "plot_kind(\"CLASS\", N, ax=plt.subplot(gs[0, :2]))\n",
    "plot_kind(\"FAM\", N, ax=plt.subplot(gs[0, 2:]))\n",
    "plot_kind(\"BEH\", N, ax=plt.subplot(gs[1, 1:3]))\n",
    "plt.suptitle(f\"Top {N} most frequent tags by kind\")\n",
    "plt.show()\n",
    "pass"
   ]
  },
  {
   "cell_type": "markdown",
   "id": "feb88c9e-7476-43a2-9915-5de7b0820425",
   "metadata": {
    "tags": []
   },
   "source": [
    "### VT detections"
   ]
  },
  {
   "cell_type": "code",
   "execution_count": null,
   "id": "26f56120-f712-4d1c-8360-a1772bd11cd8",
   "metadata": {
    "tags": []
   },
   "outputs": [],
   "source": [
    "tmp = aug_df.query(\"vt_detections > 0\")[[\"label\", \"vt_detections\"]]\n",
    "\n",
    "figsize = (8, 4)\n",
    "\n",
    "plt.figure(figsize=figsize)\n",
    "sns.histplot(\n",
    "    tmp,\n",
    "    x=\"vt_detections\",\n",
    "    hue=\"label\",\n",
    "    stat=\"percent\",\n",
    "    bins=32,\n",
    "    palette={0: \"skyblue\", 1: \"salmon\", -1: \"gray\"},\n",
    "    alpha=0.9,\n",
    ")\n",
    "plt.title(\"Detections per label\")\n",
    "pass"
   ]
  },
  {
   "cell_type": "code",
   "execution_count": null,
   "id": "cc64fcb9-3ba9-4417-b9a4-541a7e5d3a2c",
   "metadata": {
    "tags": []
   },
   "outputs": [],
   "source": [
    "def agg(xs):\n",
    "    ys = Counter(xs)\n",
    "    total = sum(ys.values())\n",
    "    return {k: v / total for k, v in ys.items()}\n",
    "\n",
    "\n",
    "bin_ranges = list(range(0, aug_df[\"vt_detections\"].max(), 5))\n",
    "x = (\n",
    "    tmp.groupby(pd.cut(tmp[\"vt_detections\"], bins=bin_ranges))[\"label\"]\n",
    "    .apply(agg)\n",
    "    .fillna(0)\n",
    "    .reset_index()\n",
    "    .set_index(\"vt_detections\")\n",
    "    .pivot(columns=\"level_1\", values=\"label\")\n",
    ")\n",
    "x.columns.name = \"label\"\n",
    "fig, ax = plt.subplots(figsize=(8, 4))\n",
    "x.plot(kind=\"bar\", stacked=True, color=colors, alpha=0.8, ax=ax)\n",
    "plt.legend(loc=\"upper right\", bbox_to_anchor=(1.12, 1))\n",
    "pass"
   ]
  },
  {
   "cell_type": "markdown",
   "id": "83f39350-9028-4486-8cfc-f805008eb264",
   "metadata": {},
   "source": [
    "### Potential FPs & FNs"
   ]
  },
  {
   "cell_type": "code",
   "execution_count": null,
   "id": "41d17df6-6d1e-457a-bcd9-7b14a27f6cda",
   "metadata": {
    "tags": []
   },
   "outputs": [],
   "source": [
    "def get_tags_by_prefix(prefix: str, tags: dict) -> dict:\n",
    "    return {k: v for k, v in tags.items() if k.startswith(prefix)}"
   ]
  },
  {
   "cell_type": "code",
   "execution_count": null,
   "id": "f75e4914-7509-4440-8fce-7a7c1a9dc961",
   "metadata": {
    "tags": []
   },
   "outputs": [],
   "source": [
    "fps = both_df.query(\"(label == 1) & (vt_detections == 0)\")\n",
    "print(\"Potential FPs:\", fps[\"subset\"].value_counts())"
   ]
  },
  {
   "cell_type": "code",
   "execution_count": null,
   "id": "b78189d4-63d1-4472-af17-f9e2a5e36a41",
   "metadata": {
    "tags": []
   },
   "outputs": [],
   "source": [
    "family_exists = both_df.query(\"avclass_curr.notna()\")[\"avclass_curr\"].apply(\n",
    "    lambda tags: len(get_tags_by_prefix(\"FAM\", tags)) > 0\n",
    ")\n",
    "fns = both_df.query(\"(label == 0) & (vt_detections > 0) & (@family_exists)\")\n",
    "print(\"Potential FNs:\", fns[\"subset\"].value_counts())"
   ]
  },
  {
   "cell_type": "markdown",
   "id": "86a41ed4-68bf-43fb-89c6-cc9cc16012ef",
   "metadata": {},
   "source": [
    "### Agreement b/w prev & curr AVClass results"
   ]
  },
  {
   "cell_type": "code",
   "execution_count": null,
   "id": "e4d1cc56-bac9-4eef-be8f-ea00d61a182f",
   "metadata": {
    "tags": []
   },
   "outputs": [],
   "source": [
    "# data subset for which both prev & curr AVClass results exist\n",
    "common_df = both_df.query(\"(avclass_prev.notna()) & (avclass_curr.notna())\")\n",
    "common_df.shape"
   ]
  },
  {
   "cell_type": "code",
   "execution_count": null,
   "id": "f8ad56a6-50b3-444e-ae77-ebb87cedfed8",
   "metadata": {
    "tags": []
   },
   "outputs": [],
   "source": [
    "def agreement(prev: str, curr: dict) -> bool:\n",
    "    \"\"\"Example\n",
    "    prev = zbot\n",
    "    curr = {'FAM:zbot': 29, 'FILE:os:windows': 16), 'CLASS:spyware': 4]\n",
    "    \"\"\"\n",
    "    for kind, _ in curr.items():\n",
    "        if prev.lower() in kind.lower():\n",
    "            return True\n",
    "\n",
    "    return False"
   ]
  },
  {
   "cell_type": "code",
   "execution_count": null,
   "id": "c8e3fb01-9e77-470a-850d-e0bfad5c05e2",
   "metadata": {
    "tags": []
   },
   "outputs": [],
   "source": [
    "agree_mask = common_df.apply(\n",
    "    lambda row: agreement(prev=row[\"avclass_prev\"], curr=row[\"avclass_curr\"]), axis=1\n",
    ")\n",
    "print(agree_mask.value_counts())"
   ]
  },
  {
   "cell_type": "code",
   "execution_count": null,
   "id": "99634736-569a-47a3-8f12-4ecc281d142c",
   "metadata": {
    "tags": []
   },
   "outputs": [],
   "source": [
    "print(\"Agreement\")\n",
    "tmp = common_df[agree_mask]\n",
    "print(pd.crosstab(tmp[\"label\"], [tmp[\"subset\"]], margins=True))\n",
    "\n",
    "print(\"Disagreement\")\n",
    "tmp = common_df[~agree_mask]\n",
    "print(pd.crosstab(tmp[\"label\"], [tmp[\"subset\"]], margins=True))"
   ]
  },
  {
   "cell_type": "markdown",
   "id": "c26bcc6a-d485-41e7-a445-02612ff988a9",
   "metadata": {},
   "source": [
    "### High-level mapping: `CLASS` tag"
   ]
  },
  {
   "cell_type": "code",
   "execution_count": null,
   "id": "059d1e3b-c9ad-4e5f-a77c-7544c3046a59",
   "metadata": {
    "tags": []
   },
   "outputs": [],
   "source": [
    "tmp = filter_by_kinds(assoc.tag_counter, kinds=[\"CLASS\"])\n",
    "print(f\"CLASSes (most common first), total={len(tmp)}\")\n",
    "print(most_common(tmp))"
   ]
  },
  {
   "cell_type": "code",
   "execution_count": null,
   "id": "5f423d36-bd80-4a8b-9dca-668a11518e9a",
   "metadata": {
    "tags": []
   },
   "outputs": [],
   "source": [
    "clz, xs = map(np.array, zip(*most_common(tmp)))\n",
    "clz = [x[6:] for x in clz]\n",
    "plt.figure(figsize=(8, 6))\n",
    "ax = sns.barplot(x=xs, y=clz, color=\"salmon\")\n",
    "ax.set_yticklabels(clz, fontfamily=\"monospace\", fontsize=10)\n",
    "plt.tight_layout()\n",
    "ix = np.linspace(0, 6, num=13)\n",
    "ax.set_xscale(\"log\")\n",
    "plt.title(\"CLASS tag frequency\")\n",
    "plt.xlabel(\"Number of samples\")\n",
    "pass"
   ]
  },
  {
   "cell_type": "code",
   "execution_count": null,
   "id": "0b062d60-46b4-488c-a5c9-6ffbc654e08b",
   "metadata": {
    "tags": []
   },
   "outputs": [],
   "source": [
    "high_level_classes = Counter()\n",
    "for c, num in tmp.items():\n",
    "    high_level_classes[c.split(\":\")[1]] += num\n",
    "\n",
    "print(f\"High-level CLASSes (most common first), total={len(high_level_classes)}\")\n",
    "print(high_level_classes.most_common())"
   ]
  },
  {
   "cell_type": "markdown",
   "id": "0f26ad6f-c3dc-433f-9a12-8ed9eea15eb8",
   "metadata": {
    "tags": []
   },
   "source": [
    "### `CLASS` to `FAM`/`UNK` mapping"
   ]
  },
  {
   "cell_type": "code",
   "execution_count": null,
   "id": "fded9677-6170-4e83-ad31-443c4a749620",
   "metadata": {
    "tags": []
   },
   "outputs": [],
   "source": [
    "class2fam = defaultdict(dict)\n",
    "\n",
    "for c, rest in filter_by_kinds(assoc.pair_norm_freq, kinds=[\"CLASS\"]).items():\n",
    "    for f, freq in filter_by_kinds(rest, kinds=[\"FAM\", \"UNK\"]).items():\n",
    "        class2fam[c][f] = freq\n",
    "        assert math.isclose(\n",
    "            freq,\n",
    "            assoc.pair_counter[c][f] / assoc.tag_counter[c],\n",
    "            rel_tol=0,\n",
    "            abs_tol=1e-8,\n",
    "        )\n",
    "\n",
    "class2fam = dict(class2fam)"
   ]
  },
  {
   "cell_type": "code",
   "execution_count": null,
   "id": "31c037dd-e028-497b-afd6-b94fa5831b59",
   "metadata": {
    "tags": []
   },
   "outputs": [],
   "source": [
    "Counter(filter_by_kinds(class2fam[\"CLASS:worm\"], kinds=[\"FAM\"])).most_common()[:10]"
   ]
  },
  {
   "cell_type": "markdown",
   "id": "675fc83e-134f-4cc1-8c6d-0acbe2f6c147",
   "metadata": {},
   "source": [
    "---"
   ]
  },
  {
   "cell_type": "markdown",
   "id": "ac6fe53a-94d1-45b9-8399-ed70c22cb9d6",
   "metadata": {},
   "source": [
    "## Examples"
   ]
  },
  {
   "cell_type": "markdown",
   "id": "962e6b2b-953e-4bc3-804b-4e6113538de6",
   "metadata": {},
   "source": [
    "`prev` and `curr` agree"
   ]
  },
  {
   "cell_type": "raw",
   "id": "b7380872-ca5a-4d9b-8010-28db881ff480",
   "metadata": {},
   "source": [
    "{\n",
    "    'sha256': ['e88fe2ef28b6ed87921be9bfa29ba2cc521c20bcf2e57405f23abe8faa8ad642'],\n",
    "    'appeared': ['2018-10'],\n",
    "    'label': [-1],\n",
    "    'subset': ['train'],\n",
    "    'vt_detections': [60],\n",
    "    'avclass_prev': ['emotet'],\n",
    "    'avclass_curr': [{'FILE:os:windows': 15, 'FAM:emotet': 13, 'FILE:packed': 2, 'BEH:infosteal': 2}],\n",
    "    'EXTRA': [\n",
    "        {\n",
    "            ('FAM:emotet', 'FAM:tofsee'): 0.14407807966235822,\n",
    "            ('FAM:emotet', 'UNK:dovs'): 0.17794777103666579,\n",
    "            ('FAM:emotet', 'CLASS:grayware'): 0.35747823793194405\n",
    "        }\n",
    "    ]\n",
    "}"
   ]
  },
  {
   "cell_type": "markdown",
   "id": "c200c326-9b6f-43b7-8517-e65ed6e41c5b",
   "metadata": {},
   "source": [
    "`prev` and `curr` disagree"
   ]
  },
  {
   "cell_type": "raw",
   "id": "0247448b-3493-4ae9-a34c-e5c49580284b",
   "metadata": {},
   "source": [
    "{\n",
    "    'sha256': ['2ba55a6b5558094e2626961565085a296b12f0f63af756746dccc28b612cb10d'],\n",
    "    'appeared': ['2018-05'],\n",
    "    'label': [1],\n",
    "    'subset': ['train'],\n",
    "    'vt_detections': [48],\n",
    "    'avclass_prev': ['vmprotbad'],\n",
    "    'avclass_curr': [\n",
    "        {\n",
    "            'FILE:os:windows': 14,\n",
    "            'CLASS:miner': 6,\n",
    "            'FILE:packed:vmprotect': 4,\n",
    "            'FILE:packed': 2,\n",
    "            'CLASS:grayware': 2\n",
    "        }\n",
    "    ],\n",
    "    'EXTRA': [\n",
    "        {\n",
    "            'FAM:vmprotbad': None,\n",
    "            ('CLASS:miner', 'CLASS:miner:bitcoinminer'): 0.7155711714799897,\n",
    "            ('CLASS:grayware', 'CLASS:grayware:adware'): 0.40224329746489146\n",
    "        }\n",
    "    ]\n",
    "}"
   ]
  }
 ],
 "metadata": {
  "kernelspec": {
   "display_name": "Python 3 (ipykernel)",
   "language": "python",
   "name": "python3"
  },
  "language_info": {
   "codemirror_mode": {
    "name": "ipython",
    "version": 3
   },
   "file_extension": ".py",
   "mimetype": "text/x-python",
   "name": "python",
   "nbconvert_exporter": "python",
   "pygments_lexer": "ipython3",
   "version": "3.9.16"
  }
 },
 "nbformat": 4,
 "nbformat_minor": 5
}
